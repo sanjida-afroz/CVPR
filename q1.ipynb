{
 "cells": [
  {
   "cell_type": "code",
   "execution_count": 6,
   "id": "5a469fce",
   "metadata": {},
   "outputs": [
    {
     "name": "stdout",
     "output_type": "stream",
     "text": [
      "Input Array: \n",
      "[3, 56, 21, 78, 3, 4, 12, 8, 33, 23]\n",
      "Sorted array :\n",
      "3 3 4 8 12 21 23 33 56 78 "
     ]
    }
   ],
   "source": [
    "def bubble_sort(array):\n",
    "    n=len(array)\n",
    "    for i in range(0,n):\n",
    "        for j in range(0,n-i-1):\n",
    "            if array[j] > array[j + 1]:\n",
    "                array[j], array[j + 1] = array[j + 1], array[j] # swap\n",
    "array = [3,56,21,78,3,4,12,8,33,23]\n",
    "print(\"Input Array: \")\n",
    "print(array)\n",
    "\n",
    "bubble_sort(array)\n",
    "   \n",
    "print (\"Sorted array :\")\n",
    "for i in range(len(array)):\n",
    "    print (\"%d\" %array[i],end=\" \")"
   ]
  },
  {
   "cell_type": "code",
   "execution_count": 7,
   "id": "82b3e4fd",
   "metadata": {},
   "outputs": [
    {
     "name": "stdout",
     "output_type": "stream",
     "text": [
      "[0, 1, 2, 3, 4, 5, 6, 7, 8, 9]\n"
     ]
    }
   ],
   "source": [
    "def bubble_sort(array):\n",
    "    n=len(array)\n",
    "    for i in range(0,n):\n",
    "        for j in range(0,n-i-1):\n",
    "            if array[j] > array[j + 1]:\n",
    "                array[j], array[j + 1] = array[j + 1], array[j]\n",
    "bubble_sort(array)\n",
    "array = [i for i in range(10)]\n",
    "\n",
    "print(array)"
   ]
  },
  {
   "cell_type": "code",
   "execution_count": 8,
   "id": "2e01ddec",
   "metadata": {},
   "outputs": [
    {
     "name": "stdout",
     "output_type": "stream",
     "text": [
      "Input Array: \n",
      "[3, 56, 21, 8, 3, 4, 12, 78, 33, 23]\n",
      "Sorted Array: \n",
      "[3, 3, 4, 8, 12, 21, 23, 33, 56, 78]\n"
     ]
    }
   ],
   "source": [
    "def merge_sort(inp_arr):\n",
    "    size = len(inp_arr)\n",
    "    if size > 1:\n",
    "        middle = size // 2\n",
    "        left_arr = inp_arr[:middle]\n",
    "        right_arr = inp_arr[middle:]\n",
    " \n",
    "        merge_sort(left_arr)\n",
    "        merge_sort(right_arr)\n",
    " \n",
    "        p = 0\n",
    "        q = 0\n",
    "        r = 0\n",
    " \n",
    "        left_size = len(left_arr)\n",
    "        right_size = len(right_arr)\n",
    "        while p < left_size and q < right_size:\n",
    "            if left_arr[p] < right_arr[q]:\n",
    "              inp_arr[r] = left_arr[p]\n",
    "              p += 1\n",
    "            else:\n",
    "                inp_arr[r] = right_arr[q]\n",
    "                q += 1\n",
    "             \n",
    "            r += 1\n",
    " \n",
    "        \n",
    "        while p < left_size:\n",
    "            inp_arr[r] = left_arr[p]\n",
    "            p += 1\n",
    "            r += 1\n",
    " \n",
    "        while q < right_size:\n",
    "            inp_arr[r]=right_arr[q]\n",
    "            q += 1\n",
    "            r += 1\n",
    " \n",
    "inp_arr = [3,56,21,8,3,4,12,78,33,23]\n",
    "print(\"Input Array: \")\n",
    "print(inp_arr)\n",
    "merge_sort(inp_arr)\n",
    "print(\"Sorted Array: \")\n",
    "print(inp_arr)"
   ]
  },
  {
   "cell_type": "code",
   "execution_count": null,
   "id": "8dab570e",
   "metadata": {},
   "outputs": [],
   "source": []
  }
 ],
 "metadata": {
  "kernelspec": {
   "display_name": "Python [conda env:cv22] *",
   "language": "python",
   "name": "conda-env-cv22-py"
  },
  "language_info": {
   "codemirror_mode": {
    "name": "ipython",
    "version": 3
   },
   "file_extension": ".py",
   "mimetype": "text/x-python",
   "name": "python",
   "nbconvert_exporter": "python",
   "pygments_lexer": "ipython3",
   "version": "3.8.12"
  }
 },
 "nbformat": 4,
 "nbformat_minor": 5
}
